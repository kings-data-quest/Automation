{
 "cells": [
  {
   "cell_type": "code",
   "execution_count": 3,
   "id": "6b999d40-3aa3-4b49-9fcc-1bbe19a92daf",
   "metadata": {},
   "outputs": [],
   "source": [
    "import pandas as pd"
   ]
  },
  {
   "cell_type": "code",
   "execution_count": 2,
   "id": "41f0c53f-7f38-428b-98f6-1693cc7f1d4f",
   "metadata": {},
   "outputs": [],
   "source": [
    "input_text = \"\"\"AFTER THE CLOSE OF THE SECOND QUARTER, OUR COMPANY, CASTAÑACORP\n",
    "                HAS ACHIEVED A GROWTH IN THE REVENUE OF 7.47%. THIS IS IN LINE\n",
    "                WITH THE OBJECTIVES FOR THE YEAR. THE MAIN DRIVER OF THE SALES HAS \n",
    "                BEEN\n",
    "                THE NEW PACKAGE DESIGNED UNDER THE SUPERVISION OF OUR MARKETING \n",
    "                DEPARTMENT.\n",
    "                OUR EXPENSES HAS BEEN CONTAINED, INCREASING ONLY BY 0.7%, THOUGH THE \n",
    "                BOARD\n",
    "                CONSIDERS IT NEEDS TO BE FURTHER REDUCED. THE EVALUATION IS \n",
    "                SATISFACTORY\n",
    "                AND THE FORECAST FOR THE NEXT QUARTER IS OPTIMISTIC. THE BOARD \n",
    "                EXPECTS\n",
    "                AN INCREASE IN PROFIT OF AT LEAST 2 MILLION DOLLARS.\"\"\"\n"
   ]
  },
  {
   "cell_type": "code",
   "execution_count": null,
   "id": "ec7b0fd9-f9c1-4464-b482-1f8f55dc666d",
   "metadata": {},
   "outputs": [],
   "source": []
  }
 ],
 "metadata": {
  "kernelspec": {
   "display_name": "Python 3 (ipykernel)",
   "language": "python",
   "name": "python3"
  },
  "language_info": {
   "codemirror_mode": {
    "name": "ipython",
    "version": 3
   },
   "file_extension": ".py",
   "mimetype": "text/x-python",
   "name": "python",
   "nbconvert_exporter": "python",
   "pygments_lexer": "ipython3",
   "version": "3.9.13"
  }
 },
 "nbformat": 4,
 "nbformat_minor": 5
}
