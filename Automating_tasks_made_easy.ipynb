{
 "cells": [
  {
   "cell_type": "code",
   "execution_count": 1,
   "id": "ed95772a-fa37-4211-9721-e4108e4ed698",
   "metadata": {
    "tags": []
   },
   "outputs": [],
   "source": [
    "import configparser\n"
   ]
  },
  {
   "cell_type": "code",
   "execution_count": null,
   "id": "d309bc12-f400-495f-810f-d9d77e694ed4",
   "metadata": {},
   "outputs": [],
   "source": []
  }
 ],
 "metadata": {
  "kernelspec": {
   "display_name": "Python 3 (ipykernel)",
   "language": "python",
   "name": "python3"
  },
  "language_info": {
   "codemirror_mode": {
    "name": "ipython",
    "version": 3
   },
   "file_extension": ".py",
   "mimetype": "text/x-python",
   "name": "python",
   "nbconvert_exporter": "python",
   "pygments_lexer": "ipython3",
   "version": "3.10.9"
  }
 },
 "nbformat": 4,
 "nbformat_minor": 5
}
